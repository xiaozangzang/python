{
 "cells": [
  {
   "cell_type": "code",
   "execution_count": 19,
   "metadata": {
    "scrolled": true
   },
   "outputs": [
    {
     "name": "stdout",
     "output_type": "stream",
     "text": [
      "                             1 \n",
      "                           2 1 2 \n",
      "                         3 2 1 2 3 \n",
      "                       4 3 2 1 2 3 4 \n",
      "                     5 4 3 2 1 2 3 4 5 \n",
      "                   6 5 4 3 2 1 2 3 4 5 6 \n",
      "                 7 6 5 4 3 2 1 2 3 4 5 6 7 \n",
      "               8 7 6 5 4 3 2 1 2 3 4 5 6 7 8 \n",
      "             9 8 7 6 5 4 3 2 1 2 3 4 5 6 7 8 9 \n"
     ]
    }
   ],
   "source": [
    "\"\"\"\n",
    "输出数字金字塔\n",
    "\"\"\"\n",
    "for x in range(1,10):\n",
    "#   打印每行之前的空格\n",
    "    print('  '*(15-x),end=' ')\n",
    "    n = x\n",
    "    while n >= 1:  \n",
    "        print(n,sep=' ',end=' ')\n",
    "        n -= 1\n",
    "    n += 2\n",
    "    while n <= x:\n",
    "        print(n,sep=' ',end=' ')\n",
    "        n += 1\n",
    "#   换行\n",
    "    print()"
   ]
  }
 ],
 "metadata": {
  "kernelspec": {
   "display_name": "Python 3",
   "language": "python",
   "name": "python3"
  },
  "language_info": {
   "codemirror_mode": {
    "name": "ipython",
    "version": 3
   },
   "file_extension": ".py",
   "mimetype": "text/x-python",
   "name": "python",
   "nbconvert_exporter": "python",
   "pygments_lexer": "ipython3",
   "version": "3.5.3"
  }
 },
 "nbformat": 4,
 "nbformat_minor": 2
}
