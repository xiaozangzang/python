{
 "cells": [
  {
   "cell_type": "markdown",
   "metadata": {},
   "source": [
    "文件与目录的操作"
   ]
  },
  {
   "cell_type": "code",
   "execution_count": 2,
   "metadata": {},
   "outputs": [
    {
     "name": "stdout",
     "output_type": "stream",
     "text": [
      "F:\\GitHub\\python\\jupyter\\Demo\\Demo01.ipynb\n",
      "Demo01.ipynb\n",
      "F:\\GitHub\\python\\jupyter\\Demo\n",
      "True\n",
      "755\n"
     ]
    }
   ],
   "source": [
    "import os.path\n",
    "\n",
    "a = os.path.abspath(\"Demo01.ipynb\")  #返回文件的绝对路径\n",
    "print(a)\n",
    "print(os.path.basename(a)) #返回路径的最后一个文件名或目录名称\n",
    "print(os.path.dirname(a))  #返回指定路径名称的上层完整路径名称t\n",
    "print(os.path.isfile(a))   #判断是否为文件\n",
    "print(os.path.getsize(a))  #返回文件的大小"
   ]
  },
  {
   "cell_type": "code",
   "execution_count": 5,
   "metadata": {},
   "outputs": [
    {
     "name": "stdout",
     "output_type": "stream",
     "text": [
      "<class 'list'>\n",
      "F:\\GitHub\\python\\jupyter\\Demo\\Demo01.ipynb\n",
      "F:\\GitHub\\python\\jupyter\\Demo\\Demo02.ipynb\n",
      "F:\\GitHub\\python\\jupyter\\Demo\\Demo03.ipynb\n",
      "F:\\GitHub\\python\\jupyter\\Demo\\Demo04.ipynb\n",
      "F:\\GitHub\\python\\jupyter\\Demo\\Demo05.ipynb\n",
      "F:\\GitHub\\python\\jupyter\\Demo\\Demo06.ipynb\n",
      "F:\\GitHub\\python\\jupyter\\Demo\\FileDemoTest.ipynb\n",
      "F:\\GitHub\\python\\jupyter\\Demo\\InputDemoTest.ipynb\n",
      "F:\\GitHub\\python\\jupyter\\Demo\\StudentManagmentSystem.ipynb\n"
     ]
    }
   ],
   "source": [
    "import glob\n",
    "\n",
    "if __name__ == '__main__':\n",
    "    #利用glob外部模块，使用通配符获取文件\n",
    "    files = glob.glob(\"*.ipynb\")\n",
    "    print(type(files))\n",
    "    #获取符合条件的文件的绝对路径\n",
    "    for file in files:\n",
    "        print(os.path.abspath(file))"
   ]
  },
  {
   "cell_type": "code",
   "execution_count": 98,
   "metadata": {},
   "outputs": [],
   "source": [
    "import os\n",
    "#os.walk()返回由三个元素的tuple所组成的列表，tuple里面的值分别是（文件夹名，下一层文件夹列表，本文件夹内所有的文件列表）\n",
    "# 由这些数据组合出所有往下的树状目录结构的内容\n",
    "sample_tree = os.walk(\"Demo\")\n",
    "for dirname,subdir,files in sample_tree:\n",
    "    print(dirname)\n",
    "    print(subdir)\n",
    "    print(files)\n",
    "    print()"
   ]
  },
  {
   "cell_type": "code",
   "execution_count": 214,
   "metadata": {},
   "outputs": [
    {
     "name": "stdout",
     "output_type": "stream",
     "text": [
      "这是往文件中写内容\n",
      "\n",
      "-------------测试文件1-------------\n",
      "\n",
      "-------------测试文件2-------------\n",
      "\n",
      "-------------测试文件3-------------\n",
      "\n",
      "-------------测试文件4-------------\n",
      "\n",
      "-------------测试文件5-------------\n",
      "\n",
      "-------------测试文件6-------------\n",
      "\n",
      "-------------测试文件7-------------\n",
      "\n",
      "-------------测试文件8-------------\n",
      "\n",
      "-------------测试文件9-------------\n",
      "\n",
      "-------------测试文件10-------------\n",
      "\n",
      "-------------测试文件11-------------\n",
      "\n",
      "-------------测试文件12-------------\n",
      "\n",
      "-------------测试文件13-------------\n",
      "\n",
      "-------------测试文件14-------------\n",
      "\n",
      "-------------测试文件15-------------\n",
      "\n",
      "-------------测试文件16-------------\n",
      "\n",
      "-------------测试文件17-------------\n",
      "\n",
      "-------------测试文件18-------------\n",
      "\n",
      "-------------测试文件19-------------\n",
      "\n",
      "-------------测试文件1-------------\n",
      "\n",
      "-------------测试文件2-------------\n",
      "\n",
      "-------------测试文件3-------------\n",
      "\n",
      "-------------测试文件4-------------\n",
      "\n",
      "-------------测试文件5-------------\n",
      "\n",
      "-------------测试文件6-------------\n",
      "\n",
      "-------------测试文件7-------------\n",
      "\n",
      "-------------测试文件8-------------\n",
      "\n",
      "-------------测试文件9-------------\n",
      "\n",
      "-------------测试文件10-------------\n",
      "\n",
      "-------------测试文件11-------------\n",
      "\n",
      "-------------测试文件12-------------\n",
      "\n",
      "-------------测试文件13-------------\n",
      "\n",
      "-------------测试文件14-------------\n",
      "\n",
      "-------------测试文件15-------------\n",
      "\n",
      "-------------测试文件16-------------\n",
      "\n",
      "-------------测试文件17-------------\n",
      "\n",
      "-------------测试文件18-------------\n",
      "\n",
      "-------------测试文件19-------------\n",
      "\n"
     ]
    }
   ],
   "source": [
    "# 从文件中读数据\n",
    "fp = open(\"test_file.txt\",\"r\",encoding=\"utf-8\")\n",
    "tests = fp.readlines()\n",
    "for test in tests:\n",
    "    print(test)"
   ]
  },
  {
   "cell_type": "code",
   "execution_count": 213,
   "metadata": {},
   "outputs": [],
   "source": [
    "# 往文件中追加内容\n",
    "fp = open(\"test_file.txt\",\"a\",encoding=\"utf-8\")\n",
    "for i in range(1,20):\n",
    "    fp.write(\"-------------测试文件{}-------------\\n\".format(i))"
   ]
  },
  {
   "cell_type": "code",
   "execution_count": 211,
   "metadata": {},
   "outputs": [
    {
     "data": {
      "text/plain": [
       "9"
      ]
     },
     "execution_count": 211,
     "metadata": {},
     "output_type": "execute_result"
    }
   ],
   "source": [
    "# 往文件中写内容\n",
    "fp = open(\"test_file.txt\",\"w\",encoding=\"utf-8\")\n",
    "fp.write(\"这是往文件中写内容\")"
   ]
  }
 ],
 "metadata": {
  "kernelspec": {
   "display_name": "Python 3",
   "language": "python",
   "name": "python3"
  },
  "language_info": {
   "codemirror_mode": {
    "name": "ipython",
    "version": 3
   },
   "file_extension": ".py",
   "mimetype": "text/x-python",
   "name": "python",
   "nbconvert_exporter": "python",
   "pygments_lexer": "ipython3",
   "version": "3.5.3"
  }
 },
 "nbformat": 4,
 "nbformat_minor": 2
}
