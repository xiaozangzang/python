{
 "cells": [
  {
   "cell_type": "markdown",
   "metadata": {},
   "source": [
    "创建一个程序，从多个水果名称中随机选取一个并显示"
   ]
  },
  {
   "cell_type": "code",
   "execution_count": 1,
   "metadata": {},
   "outputs": [
    {
     "name": "stdout",
     "output_type": "stream",
     "text": [
      "Pear\n"
     ]
    }
   ],
   "source": [
    "import random\n",
    "\n",
    "fruits = ['Apple','Orange','Banana','Pear','Chery']\n",
    "# choice()随机返回集合中的元素\n",
    "cf = random.choice(fruits)\n",
    "print(cf)"
   ]
  },
  {
   "cell_type": "code",
   "execution_count": 133,
   "metadata": {},
   "outputs": [
    {
     "name": "stdout",
     "output_type": "stream",
     "text": [
      "0.33527432276508284\n",
      "1\n",
      "[2, 3, 4]\n"
     ]
    }
   ],
   "source": [
    "import random\n",
    "\n",
    "# random()随机返回区间[0.0,1.0)内的浮点型数字\n",
    "a = random.random()\n",
    "print(a)\n",
    "\n",
    "#randint(m,n)随机返回区间(a, b+1)内的整数\n",
    "b = random.randint(1,2)\n",
    "print(b)\n",
    "\n",
    "# sample(population,k)随机返回集合中k个元素\n",
    "tupple = [2,3,4,5,1,77]\n",
    "c = random.sample(tupple,3)\n",
    "print(c)"
   ]
  }
 ],
 "metadata": {
  "kernelspec": {
   "display_name": "Python 3",
   "language": "python",
   "name": "python3"
  },
  "language_info": {
   "codemirror_mode": {
    "name": "ipython",
    "version": 3
   },
   "file_extension": ".py",
   "mimetype": "text/x-python",
   "name": "python",
   "nbconvert_exporter": "python",
   "pygments_lexer": "ipython3",
   "version": "3.5.3"
  }
 },
 "nbformat": 4,
 "nbformat_minor": 2
}
