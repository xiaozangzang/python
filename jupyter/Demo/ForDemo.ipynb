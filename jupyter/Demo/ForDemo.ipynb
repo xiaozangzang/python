{
 "cells": [
  {
   "cell_type": "code",
   "execution_count": 3,
   "metadata": {},
   "outputs": [
    {
     "name": "stdout",
     "output_type": "stream",
     "text": [
      "3 , 4 , 5\n",
      "4 , 3 , 5\n",
      "5 , 12 , 13\n",
      "6 , 8 , 10\n",
      "7 , 24 , 25\n",
      "8 , 6 , 10\n",
      "8 , 15 , 17\n",
      "9 , 12 , 15\n",
      "9 , 40 , 41\n",
      "10 , 24 , 26\n",
      "12 , 5 , 13\n",
      "12 , 9 , 15\n",
      "12 , 16 , 20\n",
      "12 , 35 , 37\n",
      "15 , 8 , 17\n",
      "15 , 20 , 25\n",
      "15 , 36 , 39\n",
      "16 , 12 , 20\n",
      "16 , 30 , 34\n",
      "18 , 24 , 30\n",
      "20 , 15 , 25\n",
      "20 , 21 , 29\n",
      "21 , 20 , 29\n",
      "21 , 28 , 35\n",
      "24 , 7 , 25\n",
      "24 , 10 , 26\n",
      "24 , 18 , 30\n",
      "24 , 32 , 40\n",
      "27 , 36 , 45\n",
      "28 , 21 , 35\n",
      "30 , 16 , 34\n",
      "32 , 24 , 40\n",
      "35 , 12 , 37\n",
      "36 , 15 , 39\n",
      "36 , 27 , 45\n",
      "40 , 9 , 41\n"
     ]
    }
   ],
   "source": [
    "\"\"\"\n",
    "编程输出50以内的勾股数\n",
    "\"\"\"\n",
    "for x in range(1,50):\n",
    "    for y in range(1,50):\n",
    "        for z in range(1,50):\n",
    "            if x * x + y * y == z * z:\n",
    "                print(x,y,z,sep=' , ')"
   ]
  }
 ],
 "metadata": {
  "kernelspec": {
   "display_name": "Python 3",
   "language": "python",
   "name": "python3"
  },
  "language_info": {
   "codemirror_mode": {
    "name": "ipython",
    "version": 3
   },
   "file_extension": ".py",
   "mimetype": "text/x-python",
   "name": "python",
   "nbconvert_exporter": "python",
   "pygments_lexer": "ipython3",
   "version": "3.5.3"
  }
 },
 "nbformat": 4,
 "nbformat_minor": 2
}
