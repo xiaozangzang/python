{
 "cells": [
  {
   "cell_type": "markdown",
   "metadata": {},
   "source": [
    "使用BeautiSoup，提取网页中完整链接"
   ]
  },
  {
   "cell_type": "code",
   "execution_count": 1,
   "metadata": {},
   "outputs": [],
   "source": [
    "from bs4 import BeautifulSoup\n",
    "import requests\n",
    "import sys\n",
    "\n",
    "url = \"http://www.360doc.com/content/14/0723/14/8790037_396505347.shtml\"\n",
    "html = requests.get(url).text\n",
    "sp = BeautifulSoup(html,\"html.parser\")\n",
    "\n",
    "all_links = sp.find_all('a')\n",
    "# 检查该网页中打印以http://开头的所有网址\n",
    "for link in all_links:\n",
    "    href = link.get('href')\n",
    "    if href != None and href.startswith('http://'):\n",
    "        print(href)\n",
    "\n",
    "\n"
   ]
  },
  {
   "cell_type": "code",
   "execution_count": 7,
   "metadata": {},
   "outputs": [],
   "source": [
    "from bs4 import BeautifulSoup\n",
    "import requests\n",
    "import sys\n",
    "from urllib.parse import urlparse\n",
    "\n",
    "url = \"http://www.360doc.com/content/14/0723/14/8790037_396505347.shtml\"\n",
    "html = requests.get(url).text\n",
    "sp = BeautifulSoup(html,\"html.parser\")\n",
    "\n",
    "all_links = sp.find_all('a','img')\n",
    "for link in all_links:\n",
    "    src = link.get('src')\n",
    "    href = link.get('href')\n",
    "    targets = [src,href]\n",
    "    for t in targets:\n",
    "        if t!= None and ('jpg' in t or '.png' in t):\n",
    "            if t.startswith('http'):\n",
    "                print(t)\n",
    "          "
   ]
  }
 ],
 "metadata": {
  "kernelspec": {
   "display_name": "Python 3",
   "language": "python",
   "name": "python3"
  },
  "language_info": {
   "codemirror_mode": {
    "name": "ipython",
    "version": 3
   },
   "file_extension": ".py",
   "mimetype": "text/x-python",
   "name": "python",
   "nbconvert_exporter": "python",
   "pygments_lexer": "ipython3",
   "version": "3.5.3"
  }
 },
 "nbformat": 4,
 "nbformat_minor": 2
}
