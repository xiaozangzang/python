{
 "cells": [
  {
   "cell_type": "markdown",
   "metadata": {},
   "source": [
    "使用BeautiSoup，提取网页中完整链接"
   ]
  },
  {
   "cell_type": "code",
   "execution_count": 15,
   "metadata": {},
   "outputs": [
    {
     "name": "stdout",
     "output_type": "stream",
     "text": [
      "['http://tieba.baidu.com/p/5659476307', 'http://tieba.baidu.com/p/5692140497', 'http://tieba.baidu.com/p/5649310959', 'http://tieba.baidu.com/p/5659969529', 'http://tieba.baidu.com/p/5643633489', 'http://tieba.baidu.com/p/5660996424', 'http://tieba.baidu.com/p/5677997505', 'http://tieba.baidu.com/p/5672189740', 'http://tieba.baidu.com/p/5656579799', 'http://tieba.baidu.com/p/5642190845', 'http://tieba.baidu.com/p/5661385295', 'http://tieba.baidu.com/p/5661576328', 'http://tieba.baidu.com/p/5663396483', 'http://tieba.baidu.com/p/5622030950']\n"
     ]
    }
   ],
   "source": [
    "from bs4 import BeautifulSoup\n",
    "import requests\n",
    "import sys\n",
    "\n",
    "kw = '西安建筑科技大学'\n",
    "red_tag = 'i2937740099'\n",
    "#获取html\n",
    "def get_html_data(kw,red_tag):\n",
    "    url = 'http://tieba.baidu.com/f?kw = ' + kw + '&fr=index&red_tag = '+ red_tag\n",
    "    html = requests.get(url).text\n",
    "    sp = BeautifulSoup(html,\"html.parser\")\n",
    "    return sp\n",
    "def find_href(all_links):\n",
    "    hrefs = []\n",
    "    # 检查该网页中所有帖子的网址\n",
    "    for link in all_links:\n",
    "        href = link.get('href')\n",
    "        if href != None and href.startswith('/p/'):\n",
    "            href = 'http://tieba.baidu.com' + href\n",
    "            hrefs.append(href)\n",
    "#             print(href)\n",
    "    return hrefs\n",
    "\n",
    "if __name__ == '__main__':\n",
    "    sp = get_html_data(kw,red_tag)\n",
    "    all_links = sp.find_all('a')\n",
    "    hrefs = find_href(all_links)\n",
    "    print(hrefs)\n",
    "    http://tieba.baidu.com/f?kw=%E8%A5%BF%E5%AE%89%E5%BB%BA%E7%AD%91%E7%A7%91%E6%8A%80%E5%A4%A7%E5%AD%A6&ie=utf-8&pn=50\n",
    "    \n",
    "\n"
   ]
  },
  {
   "cell_type": "code",
   "execution_count": 10,
   "metadata": {},
   "outputs": [],
   "source": [
    "from bs4 import BeautifulSoup\n",
    "import requests\n",
    "import sys\n",
    "from urllib.parse import urlparse\n",
    "\n",
    "url = \"http://www.360doc.com/content/14/0723/14/8790037_396505347.shtml\"\n",
    "html = requests.get(url).text\n",
    "sp = BeautifulSoup(html,\"html.parser\")\n",
    "\n",
    "all_links = sp.find_all('a','img')\n",
    "for link in all_links:\n",
    "    src = link.get('src')\n",
    "    href = link.get('href')\n",
    "    targets = [src,href]\n",
    "    for t in targets:\n",
    "        if t!= None and ('jpg' in t or '.png' in t):\n",
    "            if t.startswith('http'):\n",
    "                print(t)\n",
    "          "
   ]
  }
 ],
 "metadata": {
  "kernelspec": {
   "display_name": "Python 3",
   "language": "python",
   "name": "python3"
  },
  "language_info": {
   "codemirror_mode": {
    "name": "ipython",
    "version": 3
   },
   "file_extension": ".py",
   "mimetype": "text/x-python",
   "name": "python",
   "nbconvert_exporter": "python",
   "pygments_lexer": "ipython3",
   "version": "3.5.3"
  }
 },
 "nbformat": 4,
 "nbformat_minor": 2
}
