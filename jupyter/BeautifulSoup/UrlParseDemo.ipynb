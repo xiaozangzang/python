{
 "cells": [
  {
   "cell_type": "markdown",
   "metadata": {},
   "source": [
    "解析网站"
   ]
  },
  {
   "cell_type": "code",
   "execution_count": 5,
   "metadata": {},
   "outputs": [
    {
     "name": "stdout",
     "output_type": "stream",
     "text": [
      "ParseResult(scheme='http', netloc='www.360doc.com', path='/content/14/0723/14/8790037_396505347.shtml', params='', query='', fragment='')\n",
      "www.360doc.com\n",
      "/content/14/0723/14/8790037_396505347.shtml\n",
      "\n"
     ]
    }
   ],
   "source": [
    "from urllib.parse import urlparse\n",
    "\n",
    "#解析url\n",
    "uc = urlparse('http://www.360doc.com/content/14/0723/14/8790037_396505347.shtml')\n",
    "print(uc)\n",
    "# 域名\n",
    "print(uc.netloc)\n",
    "# 查看网页所在位置和网页文件名\n",
    "print(uc.path)\n",
    "# 查看参数\n",
    "print(uc.query)"
   ]
  },
  {
   "cell_type": "code",
   "execution_count": 6,
   "metadata": {},
   "outputs": [
    {
     "name": "stdout",
     "output_type": "stream",
     "text": [
      "ParseResult(scheme='http', netloc='sishuok.com', path='/forum/blogCategory/showByCategory.html', params='', query='categories_id=49&user_id=2', fragment='')\n",
      "sishuok.com\n",
      "/forum/blogCategory/showByCategory.html\n",
      "categories_id=49&user_id=2\n"
     ]
    }
   ],
   "source": [
    "uc = urlparse('http://sishuok.com/forum/blogCategory/showByCategory.html?categories_id=49&user_id=2')\n",
    "print(uc)\n",
    "# 域名\n",
    "print(uc.netloc)\n",
    "# 查看网页所在位置和网页文件名\n",
    "print(uc.path)\n",
    "# 查看参数\n",
    "print(uc.query)"
   ]
  }
 ],
 "metadata": {
  "kernelspec": {
   "display_name": "Python 3",
   "language": "python",
   "name": "python3"
  },
  "language_info": {
   "codemirror_mode": {
    "name": "ipython",
    "version": 3
   },
   "file_extension": ".py",
   "mimetype": "text/x-python",
   "name": "python",
   "nbconvert_exporter": "python",
   "pygments_lexer": "ipython3",
   "version": "3.5.3"
  }
 },
 "nbformat": 4,
 "nbformat_minor": 2
}
