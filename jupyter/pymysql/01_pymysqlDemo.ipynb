{
 "cells": [
  {
   "cell_type": "code",
   "execution_count": 6,
   "metadata": {},
   "outputs": [
    {
     "name": "stdout",
     "output_type": "stream",
     "text": [
      "18\n",
      "(1, '张三', 23)\n"
     ]
    }
   ],
   "source": [
    "#!/usr/bin/env pytho\n",
    "# -*- coding:utf-8 -*-\n",
    "import pymysql\n",
    "  \n",
    "# 创建连接\n",
    "conn = pymysql.connect(host='127.0.0.1', port=3306, user='root', passwd='root', db='mydb03', charset='utf8')\n",
    "# 创建游标\n",
    "cursor = conn.cursor()\n",
    "  \n",
    "# 执行SQL，并返回收影响行数\n",
    "effect_row = cursor.execute(\"select * from user\")\n",
    "print(effect_row)\n",
    "# 获取剩余结果的第一行数据\n",
    "\n",
    "row_1 = cursor.fetchone()\n",
    "print (row_1)\n",
    "  \n",
    "# 执行SQL，并返回受影响行数\n",
    "#effect_row = cursor.execute(\"update tb7 set pass = '123' where nid = %s\", (11,))\n",
    "  \n",
    "# 执行SQL，并返回受影响行数,执行多次\n",
    "#effect_row = cursor.executemany(\"insert into tb7(user,pass,licnese)values(%s,%s,%s)\", [(\"u1\",\"u1pass\",\"11111\"),(\"u2\",\"u2pass\",\"22222\")])\n",
    "  \n",
    "  \n",
    "# 提交，不然无法保存新建或者修改的数据\n",
    "conn.commit()\n",
    "  \n",
    "# 关闭游标\n",
    "cursor.close()\n",
    "# 关闭连接\n",
    "conn.close()"
   ]
  }
 ],
 "metadata": {
  "kernelspec": {
   "display_name": "Python 3",
   "language": "python",
   "name": "python3"
  },
  "language_info": {
   "codemirror_mode": {
    "name": "ipython",
    "version": 3
   },
   "file_extension": ".py",
   "mimetype": "text/x-python",
   "name": "python",
   "nbconvert_exporter": "python",
   "pygments_lexer": "ipython3",
   "version": "3.5.3"
  }
 },
 "nbformat": 4,
 "nbformat_minor": 2
}
