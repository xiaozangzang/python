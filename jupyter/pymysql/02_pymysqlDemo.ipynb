{
 "cells": [
  {
   "cell_type": "code",
   "execution_count": 4,
   "metadata": {},
   "outputs": [
    {
     "name": "stdout",
     "output_type": "stream",
     "text": [
      "4\n",
      "1\n"
     ]
    }
   ],
   "source": [
    "import pymysql\n",
    " \n",
    "conn = pymysql.connect(host='127.0.0.1', port=3306, user='root', passwd='root', db='mydb03',charset=\"utf8\")\n",
    "cursor = conn.cursor()\n",
    "effect_row = cursor.execute(\"select * from user\")\n",
    "print(effect_row)\n",
    "uname = \"张三\"\n",
    "age = 24\n",
    "#添加一条数据\n",
    "#row_count = cursor.execute(\"insert into user(uname,age) values (%s,%s)\",(uname,age))\n",
    "# row_count = cursor.execute(\"delete from user where uname='张三'\")\n",
    "row_count = cursor.execute(\"update user set uname = '张三' where uid = 6\")\n",
    "print(row_count)\n",
    " \n",
    "conn.commit()\n",
    "cursor.close()\n",
    "conn.close()"
   ]
  },
  {
   "cell_type": "code",
   "execution_count": null,
   "metadata": {},
   "outputs": [],
   "source": []
  }
 ],
 "metadata": {
  "kernelspec": {
   "display_name": "Python 3",
   "language": "python",
   "name": "python3"
  },
  "language_info": {
   "codemirror_mode": {
    "name": "ipython",
    "version": 3
   },
   "file_extension": ".py",
   "mimetype": "text/x-python",
   "name": "python",
   "nbconvert_exporter": "python",
   "pygments_lexer": "ipython3",
   "version": "3.5.3"
  }
 },
 "nbformat": 4,
 "nbformat_minor": 2
}
