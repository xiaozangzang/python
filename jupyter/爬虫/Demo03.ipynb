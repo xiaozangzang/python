{
 "cells": [
  {
   "cell_type": "code",
   "execution_count": 29,
   "metadata": {},
   "outputs": [
    {
     "name": "stdout",
     "output_type": "stream",
     "text": [
      "{\"ok\":1,\"data\":{\"userInfo\":{\"id\":1259110474,\"screen_name\":\"\\u8d75\\u4e3d\\u9896\",\"profile_image_url\":\"https:\\/\\/tvax3.sinaimg.cn\\/crop.0.0.512.512.180\\/4b0c804aly8foci4eilfvj20e80e8gly.jpg\",\"profile_url\":\"https:\\/\\/m.weibo.cn\\/u\\/1259110474?uid=1259110474&luicode=10000011&lfid=1005051259110474\",\"statuses_count\":1314,\"verified\":true,\"verified_type\":0,\"verified_type_ext\":1,\"verified_reason\":\"\\u6f14\\u5458\\uff0c\\u4ee3\\u8868\\u4f5c\\u54c1\\u300a\\u82b1\\u5343\\u9aa8\\u300b\\u300a\\u6749\\u6749\\u6765\\u4e86\\u300b\\u300a\\u9646\\u8d1e\\u4f20\\u5947\\u300b\",\"close_blue_v\":false,\"description\":\"\",\"gender\":\"f\",\"mbtype\":12,\"urank\":45,\"mbrank\":7,\"follow_me\":false,\"following\":false,\"followers_count\":60922898,\"follow_count\":459,\"cover_image_phone\":\"https:\\/\\/wx4.sinaimg.cn\\/crop.0.0.640.640.640\\/4b0c804aly1fdwoyoobn7j20e60e83z9.jpg\",\"avatar_hd\":\"https:\\/\\/wx3.sinaimg.cn\\/orj480\\/4b0c804aly8foci4eilfvj20e80e8gly.jpg\",\"like\":false,\"like_me\":false,\"toolbar_menus\":[{\"type\":\"profile_follow\",\"name\":\"\\u5173\\u6ce8\",\"pic\":\"\",\"params\":{\"uid\":1259110474}},{\"type\":\"link\",\"name\":\"\\u804a\\u5929\",\"pic\":\"http:\\/\\/h5.sinaimg.cn\\/upload\\/2015\\/06\\/12\\/2\\/toolbar_icon_discuss_default.png\",\"params\":{\"scheme\":\"sinaweibo:\\/\\/messagelist?uid=1259110474&nick=\\u8d75\\u4e3d\\u9896\"},\"scheme\":\"https:\\/\\/passport.weibo.cn\\/signin\\/welcome?entry=mweibo&r=https%3A%2F%2Fm.weibo.cn%2Fapi%2Fcontainer%2FgetIndex%3Ftype%3Duid%26value%3D1259110474\"},{\"type\":\"link\",\"name\":\"\\u6587\\u7ae0\",\"pic\":\"\",\"params\":{\"scheme\":\"sinaweibo:\\/\\/cardlist?containerid=2303190002_445_1259110474_WEIBO_ARTICLE_LIST_DETAIL&count=20\"},\"scheme\":\"https:\\/\\/m.weibo.cn\\/p\\/index?containerid=2303190002_445_1259110474_WEIBO_ARTICLE_LIST_DETAIL&count=20&luicode=10000011&lfid=1005051259110474\"}]},\"avatar_guide\":[],\"fans_scheme\":\"https:\\/\\/m.weibo.cn\\/p\\/index?containerid=231051_-_fans_intimacy_-_1259110474&luicode=10000011&lfid=1005051259110474\",\"follow_scheme\":\"https:\\/\\/m.weibo.cn\\/p\\/index?containerid=231051_-_followersrecomm_-_1259110474&luicode=10000011&lfid=1005051259110474\",\"tabsInfo\":{\"selectedTab\":1,\"tabs\":{\"0\":{\"title\":\"\\u4e3b\\u9875\",\"tab_type\":\"profile\",\"containerid\":\"2302831259110474\"},\"1\":{\"title\":\"\\u5fae\\u535a\",\"tab_type\":\"weibo\",\"containerid\":\"1076031259110474\",\"apipath\":\"\\/profile\\/statuses\",\"url\":\"\\/index\\/my\"},\"3\":{\"title\":\"\\u76f8\\u518c\",\"tab_type\":\"album\",\"containerid\":\"1078031259110474\",\"filter_group_info\":{\"title\":\"\\u5168\\u90e8\\u7167\\u7247(0)\",\"icon\":\"http:\\/\\/u1.sinaimg.cn\\/upload\\/2014\\/06\\/10\\/userinfo_icon_album.png\",\"icon_name\":\"\\u4e13\\u8f91\",\"icon_scheme\":\"\"}}}},\"showAppTips\":1,\"scheme\":\"sinaweibo:\\/\\/userinfo?uid=1259110474&luicode=10000011&lfid=&featurecode=\"}}\n"
     ]
    }
   ],
   "source": [
    "# -*- coding: utf-8 -*-\n",
    "\n",
    "import urllib.request\n",
    "import chardet\n",
    "\n",
    "#定义要爬取的微博大V的微博ID\n",
    "id='1259110474'\n",
    "\n",
    "#设置代理IP\n",
    "proxy_addr=\"122.241.72.191:808\"\n",
    "\n",
    "#定义页面打开函数\n",
    "def use_proxy(url,proxy_addr):\n",
    "    req=urllib.request.Request(url)\n",
    "#   设置User Agent\n",
    "    req.add_header(\"User-Agent\",\"Mozilla/5.0 (Windows NT 6.1; WOW64) AppleWebKit/537.36 (KHTML, like Gecko) Chrome/49.0.2623.221 Safari/537.36 SE 2.X MetaSr 1.0\")\n",
    "#     设置代理IP\n",
    "    proxy=urllib.request.ProxyHandler({'http':proxy_addr})\n",
    "#     创建opener\n",
    "    opener=urllib.request.build_opener(proxy,urllib.request.HTTPHandler)\n",
    "#     安装opener\n",
    "    urllib.request.install_opener(opener)\n",
    "    data=urllib.request.urlopen(req).read().decode('utf-8')\n",
    "    return data\n",
    "\n",
    "if __name__ == '__main__':\n",
    "    url = 'https://m.weibo.cn/api/container/getIndex?type=uid&value='+id\n",
    "    use_proxy(url,proxy_addr)\n",
    "\n",
    "\n"
   ]
  },
  {
   "cell_type": "markdown",
   "metadata": {},
   "source": []
  }
 ],
 "metadata": {
  "kernelspec": {
   "display_name": "Python 3",
   "language": "python",
   "name": "python3"
  },
  "language_info": {
   "codemirror_mode": {
    "name": "ipython",
    "version": 3
   },
   "file_extension": ".py",
   "mimetype": "text/x-python",
   "name": "python",
   "nbconvert_exporter": "python",
   "pygments_lexer": "ipython3",
   "version": "3.5.3"
  }
 },
 "nbformat": 4,
 "nbformat_minor": 2
}
