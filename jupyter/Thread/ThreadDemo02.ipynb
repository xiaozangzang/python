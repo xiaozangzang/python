{
 "cells": [
  {
   "cell_type": "code",
   "execution_count": 2,
   "metadata": {},
   "outputs": [
    {
     "name": "stdout",
     "output_type": "stream",
     "text": [
      "5520\n",
      "13052\n",
      "this is ReadThread >>> 1this is WriteThread >>> 1\n",
      "this is alive ?True\n",
      "\n",
      "  7\n",
      "this is ReadThread >>> 2this is WriteThread >>> 2\n",
      "this is alive ?True\n",
      "\n",
      "  7\n",
      "this is WriteThread >>> 3\n",
      "  7\n",
      "this is ReadThread >>> 3\n",
      "this is alive ?True\n",
      "this is WriteThread >>> 4\n",
      "  7\n",
      "this is ReadThread >>> 4\n",
      "this is alive ?True\n",
      "this is WriteThread >>> 5\n",
      "  6\n"
     ]
    }
   ],
   "source": [
    "import time, threading\n",
    "\n",
    "def write():\n",
    "    n = 0\n",
    "#     返回当前线程标识\n",
    "    print(threading.current_thread().ident)\n",
    "    while n < 5:\n",
    "        n += 1\n",
    "        time.sleep(1)\n",
    "        print('this is %s >>> %s' % (threading.current_thread().name,n))\n",
    "        print('  %s' % threading.active_count())\n",
    "        \n",
    "\n",
    "def read():\n",
    "    n = 1\n",
    "    print(threading.current_thread().ident)\n",
    "    while n < 5:\n",
    "        time.sleep(1)\n",
    "        print('this is %s >>> %s' % (threading.current_thread().name,n))\n",
    "        print('this is alive ?%s' % threading.current_thread().is_alive())\n",
    "        n += 1\n",
    "\n",
    "if __name__ == \"__main__\":\n",
    "    t1 = threading.Thread(target=write,name='WriteThread')\n",
    "    t2 = threading.Thread(target=read,name='ReadThread')\n",
    "    t1.start()\n",
    "    t2.start()\n"
   ]
  }
 ],
 "metadata": {
  "kernelspec": {
   "display_name": "Python 3",
   "language": "python",
   "name": "python3"
  },
  "language_info": {
   "codemirror_mode": {
    "name": "ipython",
    "version": 3
   },
   "file_extension": ".py",
   "mimetype": "text/x-python",
   "name": "python",
   "nbconvert_exporter": "python",
   "pygments_lexer": "ipython3",
   "version": "3.5.3"
  }
 },
 "nbformat": 4,
 "nbformat_minor": 2
}
