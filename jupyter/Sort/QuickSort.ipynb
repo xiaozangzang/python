{
 "cells": [
  {
   "cell_type": "code",
   "execution_count": 28,
   "metadata": {},
   "outputs": [
    {
     "name": "stdout",
     "output_type": "stream",
     "text": [
      "[5, 6, 4, 3, 1, 9]\n",
      "[5, 1, 4, 3, 6, 9]\n",
      "[6, 1, 4, 3, 5, 9]\n",
      "[3, 1, 4, 6, 5, 9]\n",
      "[1, 4, 3, 6, 5, 9]\n"
     ]
    }
   ],
   "source": [
    "#快速排序\n",
    "def quickSort(aList,low,high):\n",
    "    if low < high :\n",
    "        p = parition(aList,low,high)\n",
    "        quickSort(aList,low,p - 1)\n",
    "        quickSort(aList,p + 1,high)\n",
    "    else :\n",
    "        return aList\n",
    "#求基准位置\n",
    "def parition(aList,low,high):\n",
    "    i = low+1\n",
    "    j = high \n",
    "    while(i  < j):\n",
    "        while i < j and aList[i] < aList[low]:\n",
    "             i += 1\n",
    "        while i < j and aList[j] > aList[low]:\n",
    "            j -= 1\n",
    "        print(aList)\n",
    "        aList[i],aList[j] = aList[j],aList[i]\n",
    "    aList[low],aList[i - 1]=aList[i - 1],aList[low]\n",
    "    return i\n",
    "\n",
    "\n",
    "# 主函数\n",
    "if __name__ == '__main__':\n",
    "    aList = [5,6,4,3,1,9]\n",
    "    quickSort(aList,0,len(aList)-1)\n",
    "    print(aList)\n"
   ]
  }
 ],
 "metadata": {
  "kernelspec": {
   "display_name": "Python 3",
   "language": "python",
   "name": "python3"
  },
  "language_info": {
   "codemirror_mode": {
    "name": "ipython",
    "version": 3
   },
   "file_extension": ".py",
   "mimetype": "text/x-python",
   "name": "python",
   "nbconvert_exporter": "python",
   "pygments_lexer": "ipython3",
   "version": "3.5.3"
  }
 },
 "nbformat": 4,
 "nbformat_minor": 2
}
